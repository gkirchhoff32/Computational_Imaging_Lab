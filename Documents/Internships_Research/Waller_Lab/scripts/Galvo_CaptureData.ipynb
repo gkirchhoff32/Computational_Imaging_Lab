{
 "cells": [
  {
   "cell_type": "code",
   "execution_count": null,
   "metadata": {},
   "outputs": [],
   "source": [
    "%matplotlib inline\n",
    "import numpy as np\n",
    "import nidaqmx as ni\n",
    "import matplotlib.pyplot as plt\n",
    "import time"
   ]
  },
  {
   "cell_type": "code",
   "execution_count": null,
   "metadata": {},
   "outputs": [],
   "source": []
  },
  {
   "cell_type": "markdown",
   "metadata": {},
   "source": [
    "## Set up DAQ"
   ]
  },
  {
   "cell_type": "raw",
   "metadata": {},
   "source": [
    "system = ni.system.System.local()\n",
    "device = system.devices['Dev1']"
   ]
  },
  {
   "cell_type": "markdown",
   "metadata": {},
   "source": [
    "The following cell initialize the DAQ device for acepting the external io. Do this only once when the DAQ is on."
   ]
  },
  {
   "cell_type": "code",
   "execution_count": null,
   "metadata": {},
   "outputs": [],
   "source": [
    "if 0:\n",
    "    read_trigger.close()\n",
    "    write_voltage.close()\n",
    "    write_done.close()\n",
    "    read_test.close()\n",
    "\n",
    "read_trigger=ni.task.Task(new_task_name='task1')\n",
    "read_trigger.ci_channels.add_ci_count_edges_chan('Dev1/ctr0',edge=ni.constants.Edge['RISING'])\n",
    "write_voltage=ni.task.Task(new_task_name='task2')\n",
    "write_voltage.ao_channels.add_ao_voltage_chan('Dev1/ao0:1', max_val=10, min_val=-10)\n",
    "write_done=ni.task.Task(new_task_name='task3')\n",
    "write_done.do_channels.add_do_chan('Dev1/port0/line7')\n",
    "#read_test=ni.task.Task(new_task_name='task4')\n",
    "#read_test.di_channels.add_di_chan('Dev1/port0/line2')"
   ]
  },
  {
   "cell_type": "code",
   "execution_count": null,
   "metadata": {},
   "outputs": [],
   "source": [
    "read_trigger.start()\n",
    "write_done.start()\n",
    "write_voltage.start()"
   ]
  },
  {
   "cell_type": "markdown",
   "metadata": {},
   "source": [
    "## Create voltage list"
   ]
  },
  {
   "cell_type": "code",
   "execution_count": null,
   "metadata": {},
   "outputs": [],
   "source": [
    "# xy_cent=np.array([0.295, 0.228]) #volts 20180123\n",
    "xy_cent=np.array([0.525,-0.046]) #volts #volts 20180124\n",
    "\n",
    "volt_per_deg=0.5\n",
    "max_NA=0.35\n",
    "r_led=6 #radius, in unit of \"# of leds\"\n",
    "\n",
    "[NA_x,NA_y]=np.meshgrid(np.linspace(-max_NA,max_NA,2*r_led+1),np.linspace(-max_NA,max_NA,2*r_led+1))\n",
    "NA_x[np.arange(1,NA_x.shape[0],2),:]=NA_x[np.arange(1,NA_x.shape[0],2),::-1] #Flip every other column\n",
    "#Limit down to a circle\n",
    "valid_led=(NA_x**2+NA_y**2)<=(max_NA**2)\n",
    "\n",
    "NA_x=NA_x[valid_led]\n",
    "NA_y=NA_y[valid_led]\n",
    "\n",
    "angleD_x=np.arcsin(NA_x)*180/np.pi\n",
    "angleD_y=np.arcsin(NA_y)*180/np.pi\n",
    "\n",
    "v_x=angleD_x*volt_per_deg/2 + xy_cent[0]\n",
    "v_y=angleD_y*volt_per_deg/2 + xy_cent[1]\n",
    "\n",
    "num_galvo=len(v_x)\n"
   ]
  },
  {
   "cell_type": "code",
   "execution_count": null,
   "metadata": {},
   "outputs": [],
   "source": [
    "#Save it\n",
    "num_galvo"
   ]
  },
  {
   "cell_type": "code",
   "execution_count": null,
   "metadata": {},
   "outputs": [],
   "source": [
    "xy_cent=np.array([0.525,-0.046]) #volts#volts \n",
    "write_voltage.write(xy_cent)"
   ]
  },
  {
   "cell_type": "code",
   "execution_count": null,
   "metadata": {},
   "outputs": [],
   "source": [
    "v_x[:]=xy_cent[0]\n",
    "v_y[:]=xy_cent[1]"
   ]
  },
  {
   "cell_type": "markdown",
   "metadata": {},
   "source": [
    "## Galvo control"
   ]
  },
  {
   "cell_type": "code",
   "execution_count": null,
   "metadata": {},
   "outputs": [],
   "source": [
    "#Set back to 0,0\n",
    "write_voltage.write(xy_cent)\n",
    "\n",
    "write_done.write(True)\n",
    "\n",
    "counter_cur=read_trigger.read()\n",
    "counter_val=counter_cur #Init counter\n",
    "\n",
    "for vv in range(num_galvo):\n",
    "    print('Waiting for FPGA signal.')\n",
    "    while int(counter_cur) <=int(counter_val):\n",
    "        counter_cur=read_trigger.read()\n",
    "        print( '\\b\\b'+ str(counter_cur),end='')\n",
    "        read_trigger.wait_until_done()\n",
    "    print('Writing voltage to galvo.')\n",
    "    counter_val=counter_cur #Replace value when incremented\n",
    "    success=write_voltage.write(np.array([v_x[vv],v_y[vv]])) #Write voltage\n",
    "    if success == 0:\n",
    "        print('Failed to write, stopping.')\n",
    "        break\n",
    "    print('Sending done signal.')\n",
    "    #time.sleep(5)\n",
    "    success=write_done.write(False)\n",
    "    if success == 0:\n",
    "        print('Failed to write, stopping.')\n",
    "        break\n",
    "    time.sleep(0.005)\n",
    "    success=write_done.write(True)\n",
    "    if success == 0:\n",
    "        print('Failed to write, stopping.')\n",
    "        break\n",
    "    "
   ]
  },
  {
   "cell_type": "code",
   "execution_count": null,
   "metadata": {},
   "outputs": [],
   "source": [
    "read_trigger.stop()\n",
    "write_voltage.stop()\n",
    "write_done.stop()\n",
    "\n",
    "read_trigger.close()\n",
    "write_voltage.close()\n",
    "write_done.close()\n",
    "#read_test.close()"
   ]
  },
  {
   "cell_type": "code",
   "execution_count": null,
   "metadata": {},
   "outputs": [],
   "source": []
  },
  {
   "cell_type": "code",
   "execution_count": null,
   "metadata": {},
   "outputs": [],
   "source": []
  }
 ],
 "metadata": {
  "kernelspec": {
   "display_name": "Python 3",
   "language": "python",
   "name": "python3"
  },
  "language_info": {
   "codemirror_mode": {
    "name": "ipython",
    "version": 3
   },
   "file_extension": ".py",
   "mimetype": "text/x-python",
   "name": "python",
   "nbconvert_exporter": "python",
   "pygments_lexer": "ipython3",
   "version": "3.7.1"
  }
 },
 "nbformat": 4,
 "nbformat_minor": 2
}
