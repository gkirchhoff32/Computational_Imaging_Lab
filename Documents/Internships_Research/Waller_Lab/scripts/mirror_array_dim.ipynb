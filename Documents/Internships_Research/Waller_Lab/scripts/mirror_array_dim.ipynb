{
 "cells": [
  {
   "cell_type": "code",
   "execution_count": 1,
   "metadata": {},
   "outputs": [],
   "source": [
    "import numpy as np\n",
    "import math\n",
    "import matplotlib.pyplot as plt"
   ]
  },
  {
   "cell_type": "code",
   "execution_count": 2,
   "metadata": {},
   "outputs": [
    {
     "name": "stdout",
     "output_type": "stream",
     "text": [
      "\n",
      " THESE ARE ESTIMATES \n",
      "\n",
      "Ring 1 : 7 mirrors\n",
      "Ring 2 : 13 mirrors\n",
      "Ring 3 : 19 mirrors\n",
      "Ring 4 : 26 mirrors\n",
      "Ring 5 : 32 mirrors\n",
      "Ring 6 : 38 mirrors\n",
      "Ring 7 : 44 mirrors\n",
      "Total mirrors: 179.0\n",
      "\n",
      " Array diameter: 25.2 cm \n",
      " Array area: 498.7592496839156 cm^2 \n",
      " Array circumference: 79.1681348704628 cm\n"
     ]
    }
   ],
   "source": [
    "# Calculate maximum diameter given mirror dimensions\n",
    "#\n",
    "# Output: Estimates of number of mirrors for array\n",
    "\n",
    "print('\\n','THESE ARE ESTIMATES','\\n')\n",
    "\n",
    "### PARAMETERS ###\n",
    "mr_dia = 9e-3                 # (m) Diameter of each mirror.\n",
    "length_space = mr_dia         # (m) Length of space between mirrors. I assume space between mirrors is same dimension.\n",
    "num_dia = 15                                   # Desired number of mirrors in array diameter (make sure it's ODD).\n",
    "\n",
    "### Calculations for dimensions ###\n",
    "if num_dia%2 == 0:\n",
    "    print('Requires odd number of mirrors on diamter')\n",
    "elif num_dia%2 != 0: # Odd number on diameter\n",
    "    \n",
    "    num_rad = math.floor(num_dia/2)                # Number in radius of array.\n",
    "    num_rings = num_rad # Number of rings in array is equal to the number in the radius.\n",
    "                                       # (Not including center mirror).\n",
    "\n",
    "    ### IMPORTANT: Circumferences of rings are calculated to midpoints of rings ###\n",
    "    rings_nums = np.zeros(num_rings)\n",
    "    for i in range(num_rings):\n",
    "        iter_dia = 2*(i+1)*(length_space+mr_dia) # Find diameter of each ring (remember, there's a 'space ring'\n",
    "                                                 # between rings).\n",
    "        iter_circ = np.pi*iter_dia # Find circumference of each ring.\n",
    "        iter_num_circ = iter_circ/mr_dia # Find number of spaces plus mirrors on the circumference.\n",
    "        iter_num_mr_circ = math.ceil(iter_num_circ/2) # Find number of mirrors on circumference.\n",
    "        iter_num_spaces_circ = math.floor(iter_num_circ-iter_num_mr_circ) # Find number of spaces on circumference.\n",
    "        rings_nums[i] = iter_num_mr_circ \n",
    "\n",
    "    total_mrs = np.sum(rings_nums)\n",
    "    for i in range(len(rings_nums)):\n",
    "        print('Ring',i+1,':',int(rings_nums[i]),'mirrors')\n",
    "\n",
    "    print('Total mirrors:',total_mrs)\n",
    "\n",
    "    array_circum = np.pi*iter_dia # Total array circumference\n",
    "    array_area = np.pi*(iter_dia/2)**2 # Total array area\n",
    "\n",
    "    print('\\n','Array diameter:',iter_dia*100,'cm','\\n',\\\n",
    "          'Array area:',array_area*100*100,'cm^2','\\n',\\\n",
    "          'Array circumference:',array_circum*100,'cm')\n",
    "    \n"
   ]
  },
  {
   "cell_type": "code",
   "execution_count": 11,
   "metadata": {},
   "outputs": [
    {
     "data": {
      "text/plain": [
       "[<matplotlib.lines.Line2D at 0x17db1e6a400>,\n",
       " <matplotlib.lines.Line2D at 0x17db1e6a518>,\n",
       " <matplotlib.lines.Line2D at 0x17db1e6a668>,\n",
       " <matplotlib.lines.Line2D at 0x17db1e6a7b8>,\n",
       " <matplotlib.lines.Line2D at 0x17db1e6a908>,\n",
       " <matplotlib.lines.Line2D at 0x17db1e6aa58>,\n",
       " <matplotlib.lines.Line2D at 0x17db1e6aba8>,\n",
       " <matplotlib.lines.Line2D at 0x17db1e6acf8>,\n",
       " <matplotlib.lines.Line2D at 0x17db1e6ae48>,\n",
       " <matplotlib.lines.Line2D at 0x17db1e6af98>,\n",
       " <matplotlib.lines.Line2D at 0x17db1e71128>,\n",
       " <matplotlib.lines.Line2D at 0x17db1e71278>,\n",
       " <matplotlib.lines.Line2D at 0x17db1e713c8>,\n",
       " <matplotlib.lines.Line2D at 0x17db1e71518>,\n",
       " <matplotlib.lines.Line2D at 0x17db1e71668>,\n",
       " <matplotlib.lines.Line2D at 0x17db1e717b8>,\n",
       " <matplotlib.lines.Line2D at 0x17db1e71908>,\n",
       " <matplotlib.lines.Line2D at 0x17db1e71a58>,\n",
       " <matplotlib.lines.Line2D at 0x17db1e71ba8>,\n",
       " <matplotlib.lines.Line2D at 0x17db1e71cf8>,\n",
       " <matplotlib.lines.Line2D at 0x17db1e71e48>,\n",
       " <matplotlib.lines.Line2D at 0x17db1e71f98>,\n",
       " <matplotlib.lines.Line2D at 0x17db1e77160>,\n",
       " <matplotlib.lines.Line2D at 0x17db1e772b0>,\n",
       " <matplotlib.lines.Line2D at 0x17db1e77400>,\n",
       " <matplotlib.lines.Line2D at 0x17db1e77550>,\n",
       " <matplotlib.lines.Line2D at 0x17db1e776a0>,\n",
       " <matplotlib.lines.Line2D at 0x17db1e777f0>,\n",
       " <matplotlib.lines.Line2D at 0x17db1e77940>]"
      ]
     },
     "execution_count": 11,
     "metadata": {},
     "output_type": "execute_result"
    },
    {
     "data": {
      "image/png": "[encoded data removed]",
      "text/plain": [
       "<Figure size 432x288 with 1 Axes>"
      ]
     },
     "metadata": {
      "needs_background": "light"
     },
     "output_type": "display_data"
    }
   ],
   "source": [
    "# Show mirror array\n",
    "\n",
    "num_pix = iter_dia/mr_dia # number of \"pixels\" across diameter\n",
    "\n",
    "xx = np.arange(-num_pix/2,num_pix/2)\n",
    "yy = np.arange(-num_pix/2,num_pix/2)\n",
    "II,JJ = np.meshgrid(xx,yy) # create x and y coords of mirror grid\n",
    "\n",
    "plt.plot(II,JJ,marker='.',markersize=5,color='r',linestyle='none')\n"
   ]
  },
  {
   "cell_type": "code",
   "execution_count": 19,
   "metadata": {},
   "outputs": [
    {
     "name": "stdout",
     "output_type": "stream",
     "text": [
      "7\n"
     ]
    },
    {
     "data": {
      "text/plain": [
       "<matplotlib.image.AxesImage at 0x17db20dab70>"
      ]
     },
     "execution_count": 19,
     "metadata": {},
     "output_type": "execute_result"
    },
    {
     "data": {
      "image/png": "[encoded data removed]",
      "text/plain": [
       "<Figure size 432x288 with 1 Axes>"
      ]
     },
     "metadata": {
      "needs_background": "light"
     },
     "output_type": "display_data"
    }
   ],
   "source": [
    "print(num_rings)\n",
    "for i in range(num_rings):\n",
    "    iter_dia = 2*(i+1)*(length_space+mr_dia) # Find diameter of each ring (remember, there's a 'space ring'\n",
    "                                             # between rings).\n",
    "\n",
    "dist = np.sqrt(II**2+JJ**2)        \n",
    "pupil = (dist == iter_dia/mr_dia)\n",
    "plt.imshow(pupil)"
   ]
  },
  {
   "cell_type": "code",
   "execution_count": null,
   "metadata": {},
   "outputs": [],
   "source": []
  }
 ],
 "metadata": {
  "kernelspec": {
   "display_name": "Python 3",
   "language": "python",
   "name": "python3"
  },
  "language_info": {
   "codemirror_mode": {
    "name": "ipython",
    "version": 3
   },
   "file_extension": ".py",
   "mimetype": "text/x-python",
   "name": "python",
   "nbconvert_exporter": "python",
   "pygments_lexer": "ipython3",
   "version": "3.7.1"
  }
 },
 "nbformat": 4,
 "nbformat_minor": 2
}
